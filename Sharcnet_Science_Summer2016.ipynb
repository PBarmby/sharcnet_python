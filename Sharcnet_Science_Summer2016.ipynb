{
 "cells": [
  {
   "cell_type": "code",
   "execution_count": 121,
   "metadata": {
    "collapsed": false
   },
   "outputs": [
    {
     "name": "stdout",
     "output_type": "stream",
     "text": [
      "Hello big wide world\n"
     ]
    }
   ],
   "source": [
    "print(\"Hello big wide world\")\n"
   ]
  },
  {
   "cell_type": "code",
   "execution_count": 122,
   "metadata": {
    "collapsed": true
   },
   "outputs": [],
   "source": [
    "# here we tell Python that we want to use the \"numpy\" module\n",
    "import numpy"
   ]
  },
  {
   "cell_type": "code",
   "execution_count": 4,
   "metadata": {
    "collapsed": false
   },
   "outputs": [
    {
     "ename": "SyntaxError",
     "evalue": "invalid syntax (<ipython-input-4-75fba23f8586>, line 1)",
     "output_type": "error",
     "traceback": [
      "\u001b[0;36m  File \u001b[0;32m\"<ipython-input-4-75fba23f8586>\"\u001b[0;36m, line \u001b[0;32m1\u001b[0m\n\u001b[0;31m    import joes-cofffee-and-donuts\u001b[0m\n\u001b[0m               ^\u001b[0m\n\u001b[0;31mSyntaxError\u001b[0m\u001b[0;31m:\u001b[0m invalid syntax\n"
     ]
    }
   ],
   "source": [
    "# here's what happens if we try to import a module that doesn't exist\n",
    "import joes-cofffee-and-donuts"
   ]
  },
  {
   "cell_type": "code",
   "execution_count": 6,
   "metadata": {
    "collapsed": false
   },
   "outputs": [
    {
     "name": "stdout",
     "output_type": "stream",
     "text": [
      "/Users/pauline/Desktop/python-novice-inflammation/data\n"
     ]
    }
   ],
   "source": [
    "# change to the data subdirectory\n",
    "cd data"
   ]
  },
  {
   "cell_type": "code",
   "execution_count": 7,
   "metadata": {
    "collapsed": false
   },
   "outputs": [
    {
     "name": "stdout",
     "output_type": "stream",
     "text": [
      "inflammation-01.csv  inflammation-06.csv  inflammation-11.csv\r\n",
      "inflammation-02.csv  inflammation-07.csv  inflammation-12.csv\r\n",
      "inflammation-03.csv  inflammation-08.csv  small-01.csv\r\n",
      "inflammation-04.csv  inflammation-09.csv  small-02.csv\r\n",
      "inflammation-05.csv  inflammation-10.csv  small-03.csv\r\n"
     ]
    }
   ],
   "source": [
    "ls"
   ]
  },
  {
   "cell_type": "code",
   "execution_count": 8,
   "metadata": {
    "collapsed": false
   },
   "outputs": [
    {
     "data": {
      "text/plain": [
       "array([[ 0.,  0.,  1., ...,  3.,  0.,  0.],\n",
       "       [ 0.,  1.,  2., ...,  1.,  0.,  1.],\n",
       "       [ 0.,  1.,  1., ...,  2.,  1.,  1.],\n",
       "       ..., \n",
       "       [ 0.,  1.,  1., ...,  1.,  1.,  1.],\n",
       "       [ 0.,  0.,  0., ...,  0.,  2.,  0.],\n",
       "       [ 0.,  0.,  1., ...,  1.,  1.,  0.]])"
      ]
     },
     "execution_count": 8,
     "metadata": {},
     "output_type": "execute_result"
    }
   ],
   "source": [
    "# use the loadtxt function in numpy to read data from a file\n",
    "numpy.loadtxt(fname='inflammation-01.csv',delimiter=',')"
   ]
  },
  {
   "cell_type": "code",
   "execution_count": 9,
   "metadata": {
    "collapsed": true
   },
   "outputs": [],
   "source": [
    "# define a variable\n",
    "weight_kg = 50"
   ]
  },
  {
   "cell_type": "code",
   "execution_count": 13,
   "metadata": {
    "collapsed": false
   },
   "outputs": [
    {
     "name": "stdout",
     "output_type": "stream",
     "text": [
      "100\n"
     ]
    }
   ],
   "source": [
    "# print its value\n",
    "print(weight_kg)"
   ]
  },
  {
   "cell_type": "code",
   "execution_count": 11,
   "metadata": {
    "collapsed": false
   },
   "outputs": [
    {
     "name": "stdout",
     "output_type": "stream",
     "text": [
      "('weight in pounds: ', 110.00000000000001)\n"
     ]
    }
   ],
   "source": [
    "# use the value of the weight_kg variable\n",
    "print(\"weight in pounds: \", weight_kg*2.2)"
   ]
  },
  {
   "cell_type": "code",
   "execution_count": 12,
   "metadata": {
    "collapsed": true
   },
   "outputs": [],
   "source": [
    "# now redefine the variable\n",
    "weight_kg = 100"
   ]
  },
  {
   "cell_type": "code",
   "execution_count": 14,
   "metadata": {
    "collapsed": true
   },
   "outputs": [],
   "source": [
    "# and use its value\n",
    "weight_lb = weight_kg*2.2"
   ]
  },
  {
   "cell_type": "code",
   "execution_count": 15,
   "metadata": {
    "collapsed": false
   },
   "outputs": [
    {
     "name": "stdout",
     "output_type": "stream",
     "text": [
      "220.0\n"
     ]
    }
   ],
   "source": [
    "print(weight_lb)"
   ]
  },
  {
   "cell_type": "code",
   "execution_count": 16,
   "metadata": {
    "collapsed": true
   },
   "outputs": [],
   "source": [
    "# redefine weight_kg again\n",
    "weight_kg = 10"
   ]
  },
  {
   "cell_type": "code",
   "execution_count": 17,
   "metadata": {
    "collapsed": false
   },
   "outputs": [
    {
     "name": "stdout",
     "output_type": "stream",
     "text": [
      "220.0\n"
     ]
    }
   ],
   "source": [
    "# notice that value of weight_lb hasn't changed: not connected to the new value of weight_kg\n",
    "print(weight_lb)"
   ]
  },
  {
   "cell_type": "code",
   "execution_count": 18,
   "metadata": {
    "collapsed": false
   },
   "outputs": [
    {
     "name": "stdout",
     "output_type": "stream",
     "text": [
      "Variable    Type      Data/Info\n",
      "-------------------------------\n",
      "numpy       module    <module 'numpy' from '/Us<...>ages/numpy/__init__.pyc'>\n",
      "weight_kg   int       10\n",
      "weight_lb   float     220.0\n"
     ]
    }
   ],
   "source": [
    "# %whos tells us what variables are defined\n",
    "%whos"
   ]
  },
  {
   "cell_type": "code",
   "execution_count": 19,
   "metadata": {
    "collapsed": false
   },
   "outputs": [
    {
     "data": {
      "text/plain": [
       "0"
      ]
     },
     "execution_count": 19,
     "metadata": {},
     "output_type": "execute_result"
    }
   ],
   "source": [
    "# a strange behaviour of Python 2 that it's good to watch out for\n",
    "5/7"
   ]
  },
  {
   "cell_type": "code",
   "execution_count": 20,
   "metadata": {
    "collapsed": false
   },
   "outputs": [
    {
     "data": {
      "text/plain": [
       "0.7142857142857143"
      ]
     },
     "execution_count": 20,
     "metadata": {},
     "output_type": "execute_result"
    }
   ],
   "source": [
    "5/7.0"
   ]
  },
  {
   "cell_type": "code",
   "execution_count": 21,
   "metadata": {
    "collapsed": false
   },
   "outputs": [
    {
     "data": {
      "text/plain": [
       "2.0"
      ]
     },
     "execution_count": 21,
     "metadata": {},
     "output_type": "execute_result"
    }
   ],
   "source": [
    "# Python does know how to do arithmetic!\n",
    "1*2.0"
   ]
  },
  {
   "cell_type": "code",
   "execution_count": 22,
   "metadata": {
    "collapsed": true
   },
   "outputs": [],
   "source": [
    "# defining a string: you can use either \" or '\n",
    "address=\"1151 Richmond St \\'s\""
   ]
  },
  {
   "cell_type": "code",
   "execution_count": 23,
   "metadata": {
    "collapsed": false
   },
   "outputs": [
    {
     "name": "stdout",
     "output_type": "stream",
     "text": [
      "Variable    Type      Data/Info\n",
      "-------------------------------\n",
      "address     str       1151 Richmond St\n",
      "numpy       module    <module 'numpy' from '/Us<...>ages/numpy/__init__.pyc'>\n",
      "weight_kg   int       10\n",
      "weight_lb   float     220.0\n"
     ]
    }
   ],
   "source": []
  },
  {
   "cell_type": "code",
   "execution_count": 24,
   "metadata": {
    "collapsed": true
   },
   "outputs": [],
   "source": [
    "# read the data in the file into a variable\n",
    "data = numpy.loadtxt(fname='inflammation-01.csv',delimiter=',')"
   ]
  },
  {
   "cell_type": "code",
   "execution_count": 25,
   "metadata": {
    "collapsed": false
   },
   "outputs": [
    {
     "name": "stdout",
     "output_type": "stream",
     "text": [
      "[[ 0.  0.  1. ...,  3.  0.  0.]\n",
      " [ 0.  1.  2. ...,  1.  0.  1.]\n",
      " [ 0.  1.  1. ...,  2.  1.  1.]\n",
      " ..., \n",
      " [ 0.  1.  1. ...,  1.  1.  1.]\n",
      " [ 0.  0.  0. ...,  0.  2.  0.]\n",
      " [ 0.  0.  1. ...,  1.  1.  0.]]\n"
     ]
    }
   ],
   "source": [
    "print(data)"
   ]
  },
  {
   "cell_type": "code",
   "execution_count": 26,
   "metadata": {
    "collapsed": false
   },
   "outputs": [
    {
     "name": "stdout",
     "output_type": "stream",
     "text": [
      "<type 'numpy.ndarray'>\n"
     ]
    }
   ],
   "source": [
    "# type tells is what kind of thing \"data\" is (array, string, integer, etc)\n",
    "print(type(data))"
   ]
  },
  {
   "cell_type": "code",
   "execution_count": 27,
   "metadata": {
    "collapsed": false
   },
   "outputs": [
    {
     "name": "stdout",
     "output_type": "stream",
     "text": [
      "(60, 40)\n"
     ]
    }
   ],
   "source": [
    "# shape tells us that it's an array with 60 rows and 40 columns\n",
    "print(data.shape)"
   ]
  },
  {
   "cell_type": "code",
   "execution_count": 28,
   "metadata": {
    "collapsed": true
   },
   "outputs": [],
   "source": [
    "#Python is a row-ordered languages: 60 rows and 40 columns. \n",
    "#Other programming languages are column-ordered, can be a source of confusion."
   ]
  },
  {
   "cell_type": "code",
   "execution_count": 29,
   "metadata": {
    "collapsed": false
   },
   "outputs": [
    {
     "name": "stdout",
     "output_type": "stream",
     "text": [
      "0.0\n"
     ]
    }
   ],
   "source": [
    "# Python is 0-indexed: the first element of an array is number 0, not number 1\n",
    "# data[0,0] is used to select the element in the first row and first column\n",
    "print(data[0,0])"
   ]
  },
  {
   "cell_type": "code",
   "execution_count": 30,
   "metadata": {
    "collapsed": false
   },
   "outputs": [
    {
     "name": "stdout",
     "output_type": "stream",
     "text": [
      "0.0\n"
     ]
    }
   ],
   "source": [
    "# last row and last column\n",
    "print(data[59,39])"
   ]
  },
  {
   "cell_type": "code",
   "execution_count": 31,
   "metadata": {
    "collapsed": false
   },
   "outputs": [
    {
     "ename": "IndexError",
     "evalue": "index 60 is out of bounds for axis 0 with size 60",
     "output_type": "error",
     "traceback": [
      "\u001b[0;31m---------------------------------------------------------------------------\u001b[0m",
      "\u001b[0;31mIndexError\u001b[0m                                Traceback (most recent call last)",
      "\u001b[0;32m<ipython-input-31-bdb420cf54ad>\u001b[0m in \u001b[0;36m<module>\u001b[0;34m()\u001b[0m\n\u001b[0;32m----> 1\u001b[0;31m \u001b[0;32mprint\u001b[0m\u001b[0;34m(\u001b[0m\u001b[0mdata\u001b[0m\u001b[0;34m[\u001b[0m\u001b[0;36m60\u001b[0m\u001b[0;34m,\u001b[0m\u001b[0;36m40\u001b[0m\u001b[0;34m]\u001b[0m\u001b[0;34m)\u001b[0m\u001b[0;34m\u001b[0m\u001b[0m\n\u001b[0m",
      "\u001b[0;31mIndexError\u001b[0m: index 60 is out of bounds for axis 0 with size 60"
     ]
    }
   ],
   "source": [
    "# although the shape is (60,40) there is no element [60,40]\n",
    "print(data[60,40])"
   ]
  },
  {
   "cell_type": "code",
   "execution_count": 32,
   "metadata": {
    "collapsed": false
   },
   "outputs": [
    {
     "name": "stdout",
     "output_type": "stream",
     "text": [
      "0.0\n"
     ]
    }
   ],
   "source": [
    "# -1 can be used to select the last element\n",
    "print(data[-1,-1])"
   ]
  },
  {
   "cell_type": "code",
   "execution_count": 33,
   "metadata": {
    "collapsed": false
   },
   "outputs": [
    {
     "name": "stdout",
     "output_type": "stream",
     "text": [
      "1.0\n"
     ]
    }
   ],
   "source": [
    "# -3 means the \"3rd from last\" and so on\n",
    "print(data[-3,-3])"
   ]
  },
  {
   "cell_type": "code",
   "execution_count": 34,
   "metadata": {
    "collapsed": false
   },
   "outputs": [
    {
     "name": "stdout",
     "output_type": "stream",
     "text": [
      "[[  0.   0.   1.   3.   1.   2.   4.   7.   8.   3.   3.   3.  10.   5.\n",
      "    7.   4.   7.   7.  12.  18.   6.  13.  11.  11.   7.   7.   4.   6.\n",
      "    8.   8.   4.   4.   5.   7.   3.   4.   2.   3.   0.   0.]\n",
      " [  0.   1.   2.   1.   2.   1.   3.   2.   2.   6.  10.  11.   5.   9.\n",
      "    4.   4.   7.  16.   8.   6.  18.   4.  12.   5.  12.   7.  11.   5.\n",
      "   11.   3.   3.   5.   4.   4.   5.   5.   1.   1.   0.   1.]\n",
      " [  0.   1.   1.   3.   3.   2.   6.   2.   5.   9.   5.   7.   4.   5.\n",
      "    4.  15.   5.  11.   9.  10.  19.  14.  12.  17.   7.  12.  11.   7.\n",
      "    4.   2.  10.   5.   4.   2.   2.   3.   2.   2.   1.   1.]\n",
      " [  0.   0.   2.   0.   4.   2.   2.   1.   6.   7.  10.   7.   9.  13.\n",
      "    8.   8.  15.  10.  10.   7.  17.   4.   4.   7.   6.  15.   6.   4.\n",
      "    9.  11.   3.   5.   6.   3.   3.   4.   2.   3.   2.   1.]]\n"
     ]
    }
   ],
   "source": [
    "# we can also select a range of rows with the :\n",
    "print(data[0:4])"
   ]
  },
  {
   "cell_type": "code",
   "execution_count": 38,
   "metadata": {
    "collapsed": false
   },
   "outputs": [
    {
     "name": "stdout",
     "output_type": "stream",
     "text": [
      "[]\n"
     ]
    }
   ],
   "source": [
    "# if we put in things that don't make sense, we get an empty array back\n",
    "print(data[20:18,20:5])"
   ]
  },
  {
   "cell_type": "code",
   "execution_count": 40,
   "metadata": {
    "collapsed": false
   },
   "outputs": [],
   "source": [
    "# select a part of an array and assign it to another variable\n",
    "small = data[0:4,0:3]"
   ]
  },
  {
   "cell_type": "code",
   "execution_count": 41,
   "metadata": {
    "collapsed": false
   },
   "outputs": [
    {
     "name": "stdout",
     "output_type": "stream",
     "text": [
      "[[ 0.  0.  1.]\n",
      " [ 0.  1.  2.]\n",
      " [ 0.  1.  1.]\n",
      " [ 0.  0.  2.]]\n"
     ]
    }
   ],
   "source": [
    "print(small)"
   ]
  },
  {
   "cell_type": "code",
   "execution_count": 42,
   "metadata": {
    "collapsed": false
   },
   "outputs": [
    {
     "name": "stdout",
     "output_type": "stream",
     "text": [
      "[[ 0.  0.  2.]\n",
      " [ 0.  2.  4.]\n",
      " [ 0.  2.  2.]\n",
      " [ 0.  0.  4.]]\n"
     ]
    }
   ],
   "source": [
    "# do arithmetic on arrays\n",
    "print(small*2.0)"
   ]
  },
  {
   "cell_type": "code",
   "execution_count": 43,
   "metadata": {
    "collapsed": false
   },
   "outputs": [
    {
     "name": "stdout",
     "output_type": "stream",
     "text": [
      "[[ 1.  1.  3.]\n",
      " [ 1.  3.  5.]\n",
      " [ 1.  3.  3.]\n",
      " [ 1.  1.  5.]]\n"
     ]
    }
   ],
   "source": [
    "print(small*2 +1)"
   ]
  },
  {
   "cell_type": "code",
   "execution_count": 44,
   "metadata": {
    "collapsed": false
   },
   "outputs": [
    {
     "ename": "ValueError",
     "evalue": "operands could not be broadcast together with shapes (4,3) (60,40) ",
     "output_type": "error",
     "traceback": [
      "\u001b[0;31m---------------------------------------------------------------------------\u001b[0m",
      "\u001b[0;31mValueError\u001b[0m                                Traceback (most recent call last)",
      "\u001b[0;32m<ipython-input-44-12e87787c0fc>\u001b[0m in \u001b[0;36m<module>\u001b[0;34m()\u001b[0m\n\u001b[0;32m----> 1\u001b[0;31m \u001b[0;32mprint\u001b[0m\u001b[0;34m(\u001b[0m\u001b[0msmall\u001b[0m\u001b[0;34m+\u001b[0m\u001b[0mdata\u001b[0m\u001b[0;34m)\u001b[0m\u001b[0;34m\u001b[0m\u001b[0m\n\u001b[0m",
      "\u001b[0;31mValueError\u001b[0m: operands could not be broadcast together with shapes (4,3) (60,40) "
     ]
    }
   ],
   "source": [
    "# doesn't make sense to add 2 arrays with different shapes\n",
    "print(small+data)"
   ]
  },
  {
   "cell_type": "code",
   "execution_count": 45,
   "metadata": {
    "collapsed": true
   },
   "outputs": [],
   "source": [
    "doubledata = data*2"
   ]
  },
  {
   "cell_type": "code",
   "execution_count": 46,
   "metadata": {
    "collapsed": true
   },
   "outputs": [],
   "source": [
    "# but this works because data and doubledata have the same shape\n",
    "tripledata = doubledata+data"
   ]
  },
  {
   "cell_type": "code",
   "execution_count": 47,
   "metadata": {
    "collapsed": false
   },
   "outputs": [
    {
     "name": "stdout",
     "output_type": "stream",
     "text": [
      "[[ 0.  0.  3. ...,  9.  0.  0.]\n",
      " [ 0.  3.  6. ...,  3.  0.  3.]\n",
      " [ 0.  3.  3. ...,  6.  3.  3.]\n",
      " ..., \n",
      " [ 0.  3.  3. ...,  3.  3.  3.]\n",
      " [ 0.  0.  0. ...,  0.  6.  0.]\n",
      " [ 0.  0.  3. ...,  3.  3.  0.]]\n"
     ]
    }
   ],
   "source": [
    "print(tripledata)"
   ]
  },
  {
   "cell_type": "code",
   "execution_count": 48,
   "metadata": {
    "collapsed": false
   },
   "outputs": [
    {
     "name": "stdout",
     "output_type": "stream",
     "text": [
      "6.14875\n"
     ]
    }
   ],
   "source": [
    "# the numpy module has lots of functions we can apply to arrays, like computing their mean\n",
    "print(numpy.mean(data))"
   ]
  },
  {
   "cell_type": "code",
   "execution_count": 49,
   "metadata": {
    "collapsed": false
   },
   "outputs": [
    {
     "name": "stdout",
     "output_type": "stream",
     "text": [
      "20.0\n"
     ]
    }
   ],
   "source": [
    "print(numpy.max(data))"
   ]
  },
  {
   "cell_type": "code",
   "execution_count": 50,
   "metadata": {
    "collapsed": false
   },
   "outputs": [
    {
     "name": "stdout",
     "output_type": "stream",
     "text": [
      "0.0\n"
     ]
    }
   ],
   "source": [
    "print(numpy.min(data))"
   ]
  },
  {
   "cell_type": "code",
   "execution_count": 51,
   "metadata": {
    "collapsed": false
   },
   "outputs": [
    {
     "name": "stdout",
     "output_type": "stream",
     "text": [
      "5.0\n"
     ]
    }
   ],
   "source": [
    "print(numpy.median(data))"
   ]
  },
  {
   "cell_type": "code",
   "execution_count": 52,
   "metadata": {
    "collapsed": false
   },
   "outputs": [
    {
     "name": "stdout",
     "output_type": "stream",
     "text": [
      "[  0.           0.45         1.11666667   1.75         2.43333333   3.15\n",
      "   3.8          3.88333333   5.23333333   5.51666667   5.95         5.9\n",
      "   8.35         7.73333333   8.36666667   9.5          9.58333333\n",
      "  10.63333333  11.56666667  12.35        13.25        11.96666667\n",
      "  11.03333333  10.16666667  10.           8.66666667   9.15         7.25\n",
      "   7.33333333   6.58333333   6.06666667   5.95         5.11666667   3.6\n",
      "   3.3          3.56666667   2.48333333   1.5          1.13333333\n",
      "   0.56666667]\n"
     ]
    }
   ],
   "source": [
    "# we might also want to just compute the mean of each column. \n",
    "# axis=0 means \"compute this across axis 0 (the rows)\n",
    "print(numpy.mean(data,axis=0))"
   ]
  },
  {
   "cell_type": "code",
   "execution_count": 53,
   "metadata": {
    "collapsed": false
   },
   "outputs": [
    {
     "name": "stdout",
     "output_type": "stream",
     "text": [
      "(40,)\n"
     ]
    }
   ],
   "source": [
    "# we know these are the column means because there are 40 of them and our array has 40 columns\n",
    "print(numpy.mean(data,axis=0).shape)"
   ]
  },
  {
   "cell_type": "code",
   "execution_count": 54,
   "metadata": {
    "collapsed": false
   },
   "outputs": [
    {
     "name": "stdout",
     "output_type": "stream",
     "text": [
      "(60,)\n"
     ]
    }
   ],
   "source": [
    "# to compute the mean of each row we use axis=1. Should be 60 of these.\n",
    "print(numpy.mean(data,axis=1).shape)"
   ]
  },
  {
   "cell_type": "code",
   "execution_count": 55,
   "metadata": {
    "collapsed": true
   },
   "outputs": [],
   "source": [
    "# special command used (just once) to make our plots appear in the notebook\n",
    "%matplotlib inline"
   ]
  },
  {
   "cell_type": "code",
   "execution_count": 56,
   "metadata": {
    "collapsed": true
   },
   "outputs": [],
   "source": [
    "# import the plotting module\n",
    "import matplotlib.pyplot"
   ]
  },
  {
   "cell_type": "code",
   "execution_count": 57,
   "metadata": {
    "collapsed": false
   },
   "outputs": [
    {
     "data": {
      "image/png": "[encoded data removed]",
      "text/plain": [
       "<matplotlib.figure.Figure at 0x104725c50>"
      ]
     },
     "metadata": {},
     "output_type": "display_data"
    }
   ],
   "source": [
    "# imshow turns our array of numbers into a coloured image\n",
    "image = matplotlib.pyplot.imshow(data)"
   ]
  },
  {
   "cell_type": "code",
   "execution_count": 58,
   "metadata": {
    "collapsed": true
   },
   "outputs": [],
   "source": [
    "# now let's compute numbers from our data and plot them\n",
    "ave_inflam = numpy.mean(data,axis=0)"
   ]
  },
  {
   "cell_type": "code",
   "execution_count": 59,
   "metadata": {
    "collapsed": false
   },
   "outputs": [
    {
     "data": {
      "image/png": "[encoded data removed]",
      "text/plain": [
       "<matplotlib.figure.Figure at 0x1047e71d0>"
      ]
     },
     "metadata": {},
     "output_type": "display_data"
    }
   ],
   "source": [
    "# your plot might look a bit different\n",
    "ave_plot = matplotlib.pyplot.plot(ave_inflam)\n",
    "matplotlib.pyplot.show()"
   ]
  },
  {
   "cell_type": "code",
   "execution_count": 60,
   "metadata": {
    "collapsed": false
   },
   "outputs": [
    {
     "name": "stdout",
     "output_type": "stream",
     "text": [
      "inflammation-01.csv  inflammation-06.csv  inflammation-11.csv\r\n",
      "inflammation-02.csv  inflammation-07.csv  inflammation-12.csv\r\n",
      "inflammation-03.csv  inflammation-08.csv  small-01.csv\r\n",
      "inflammation-04.csv  inflammation-09.csv  small-02.csv\r\n",
      "inflammation-05.csv  inflammation-10.csv  small-03.csv\r\n"
     ]
    }
   ],
   "source": [
    "# lots of files in this directory - we want to figure out how to do the same\n",
    "# thing over and over, with loops\n",
    "ls"
   ]
  },
  {
   "cell_type": "code",
   "execution_count": 123,
   "metadata": {
    "collapsed": false
   },
   "outputs": [
    {
     "name": "stdout",
     "output_type": "stream",
     "text": [
      "l\n",
      "e\n",
      "a\n",
      "d\n"
     ]
    }
   ],
   "source": [
    "# suppose we want to print every character in a word. Here is one way:\n",
    "word = 'lead'\n",
    "print(word[0])\n",
    "print(word[1])\n",
    "print(word[2])\n",
    "print(word[3])"
   ]
  },
  {
   "cell_type": "code",
   "execution_count": 63,
   "metadata": {
    "collapsed": false
   },
   "outputs": [
    {
     "name": "stdout",
     "output_type": "stream",
     "text": [
      "t\n",
      "i\n",
      "n\n"
     ]
    },
    {
     "ename": "IndexError",
     "evalue": "string index out of range",
     "output_type": "error",
     "traceback": [
      "\u001b[0;31m---------------------------------------------------------------------------\u001b[0m",
      "\u001b[0;31mIndexError\u001b[0m                                Traceback (most recent call last)",
      "\u001b[0;32m<ipython-input-63-a51226538da7>\u001b[0m in \u001b[0;36m<module>\u001b[0;34m()\u001b[0m\n\u001b[1;32m      3\u001b[0m \u001b[0;32mprint\u001b[0m\u001b[0;34m(\u001b[0m\u001b[0mword\u001b[0m\u001b[0;34m[\u001b[0m\u001b[0;36m1\u001b[0m\u001b[0;34m]\u001b[0m\u001b[0;34m)\u001b[0m\u001b[0;34m\u001b[0m\u001b[0m\n\u001b[1;32m      4\u001b[0m \u001b[0;32mprint\u001b[0m\u001b[0;34m(\u001b[0m\u001b[0mword\u001b[0m\u001b[0;34m[\u001b[0m\u001b[0;36m2\u001b[0m\u001b[0;34m]\u001b[0m\u001b[0;34m)\u001b[0m\u001b[0;34m\u001b[0m\u001b[0m\n\u001b[0;32m----> 5\u001b[0;31m \u001b[0;32mprint\u001b[0m\u001b[0;34m(\u001b[0m\u001b[0mword\u001b[0m\u001b[0;34m[\u001b[0m\u001b[0;36m3\u001b[0m\u001b[0;34m]\u001b[0m\u001b[0;34m)\u001b[0m\u001b[0;34m\u001b[0m\u001b[0m\n\u001b[0m",
      "\u001b[0;31mIndexError\u001b[0m: string index out of range"
     ]
    }
   ],
   "source": [
    "# but the same thing doesn't quite work here.\n",
    "word = 'tin'\n",
    "print(word[0])\n",
    "print(word[1])\n",
    "print(word[2])\n",
    "print(word[3])"
   ]
  },
  {
   "cell_type": "code",
   "execution_count": 124,
   "metadata": {
    "collapsed": false
   },
   "outputs": [
    {
     "name": "stdout",
     "output_type": "stream",
     "text": [
      "l\n",
      "e\n",
      "a\n",
      "d\n"
     ]
    }
   ],
   "source": [
    "# so instead we use a \"for loop\" \n",
    "#for <thing> in <list of things>:\n",
    "#    do something\n",
    "#    do something else\n",
    "#all done doing things\n",
    "word = 'lead'\n",
    "for character in word:\n",
    "    print(character)    "
   ]
  },
  {
   "cell_type": "code",
   "execution_count": 66,
   "metadata": {
    "collapsed": false
   },
   "outputs": [
    {
     "name": "stdout",
     "output_type": "stream",
     "text": [
      "('final length', 5)\n"
     ]
    }
   ],
   "source": [
    "# the loop doesn't actually have to do anything to the things in the list\n",
    "length = 0\n",
    "for vowel in 'aeiou':\n",
    "    length = length + 1\n",
    "print('final length',length)    "
   ]
  },
  {
   "cell_type": "code",
   "execution_count": 67,
   "metadata": {
    "collapsed": false
   },
   "outputs": [
    {
     "name": "stdout",
     "output_type": "stream",
     "text": [
      "u\n"
     ]
    }
   ],
   "source": [
    "# the value of the variable (vowel in the above) stays the way it was after the last trip \n",
    "# through the loop\n",
    "print(vowel)"
   ]
  },
  {
   "cell_type": "code",
   "execution_count": 72,
   "metadata": {
    "collapsed": false
   },
   "outputs": [
    {
     "name": "stdout",
     "output_type": "stream",
     "text": [
      "('odds are:', [1, 3, 5, 7])\n"
     ]
    }
   ],
   "source": [
    "# here is a Python list: [thing1, thing2, thing3]\n",
    "odds = [1,3,5,7]\n",
    "print('odds are:', odds)"
   ]
  },
  {
   "cell_type": "code",
   "execution_count": 73,
   "metadata": {
    "collapsed": false
   },
   "outputs": [
    {
     "data": {
      "text/plain": [
       "1"
      ]
     },
     "execution_count": 73,
     "metadata": {},
     "output_type": "execute_result"
    }
   ],
   "source": [
    "# we can select elements of a list like we did with an array\n",
    "odds[0]"
   ]
  },
  {
   "cell_type": "code",
   "execution_count": 74,
   "metadata": {
    "collapsed": false
   },
   "outputs": [
    {
     "data": {
      "text/plain": [
       "7"
      ]
     },
     "execution_count": 74,
     "metadata": {},
     "output_type": "execute_result"
    }
   ],
   "source": [
    "odds[-1]"
   ]
  },
  {
   "cell_type": "code",
   "execution_count": 75,
   "metadata": {
    "collapsed": false
   },
   "outputs": [
    {
     "data": {
      "text/plain": [
       "[3, 5]"
      ]
     },
     "execution_count": 75,
     "metadata": {},
     "output_type": "execute_result"
    }
   ],
   "source": [
    "# we can select more than one element\n",
    "# note that [1:3] means \"elements from 1 up to but not including 3\"\n",
    "odds[1:3]"
   ]
  },
  {
   "cell_type": "code",
   "execution_count": 76,
   "metadata": {
    "collapsed": false
   },
   "outputs": [
    {
     "name": "stdout",
     "output_type": "stream",
     "text": [
      "1\n",
      "2\n",
      "3\n",
      "6\n",
      "5\n",
      "10\n",
      "7\n",
      "14\n"
     ]
    }
   ],
   "source": [
    "# we can write a loop that iterates over a list\n",
    "for number in odds:\n",
    "    print(number)\n",
    "    print(number*2)\n",
    "    "
   ]
  },
  {
   "cell_type": "code",
   "execution_count": 77,
   "metadata": {
    "collapsed": true
   },
   "outputs": [],
   "source": [
    "# lists don't have to be numbers\n",
    "list_of_names = ['Newton','Einstein','Curie', 'Bob']"
   ]
  },
  {
   "cell_type": "code",
   "execution_count": 78,
   "metadata": {
    "collapsed": false
   },
   "outputs": [
    {
     "data": {
      "text/plain": [
       "array([  0.,   0.,   1.,   3.,   1.,   2.,   4.,   7.,   8.,   3.,   3.,\n",
       "         3.,  10.,   5.,   7.,   4.,   7.,   7.,  12.,  18.,   6.,  13.,\n",
       "        11.,  11.,   7.,   7.,   4.,   6.,   8.,   8.,   4.,   4.,   5.,\n",
       "         7.,   3.,   4.,   2.,   3.,   0.,   0.])"
      ]
     },
     "execution_count": 78,
     "metadata": {},
     "output_type": "execute_result"
    }
   ],
   "source": [
    "# how to tell the difference between a list and a 1-D array? Look for the \"array\"\n",
    "data[0]"
   ]
  },
  {
   "cell_type": "code",
   "execution_count": 79,
   "metadata": {
    "collapsed": false
   },
   "outputs": [
    {
     "data": {
      "text/plain": [
       "list"
      ]
     },
     "execution_count": 79,
     "metadata": {},
     "output_type": "execute_result"
    }
   ],
   "source": [
    "# or use \"type\"\n",
    "type(list_of_names)"
   ]
  },
  {
   "cell_type": "code",
   "execution_count": 80,
   "metadata": {
    "collapsed": false
   },
   "outputs": [
    {
     "data": {
      "text/plain": [
       "list"
      ]
     },
     "execution_count": 80,
     "metadata": {},
     "output_type": "execute_result"
    }
   ],
   "source": [
    "type(odds)"
   ]
  },
  {
   "cell_type": "code",
   "execution_count": 81,
   "metadata": {
    "collapsed": false
   },
   "outputs": [
    {
     "name": "stdout",
     "output_type": "stream",
     "text": [
      "[1, 3, 5, 7, 1, 3, 5, 7]\n"
     ]
    }
   ],
   "source": [
    "# because \"odds\" is a list, *2 doesn't do what it would for an array\n",
    "print(odds*2)"
   ]
  },
  {
   "cell_type": "code",
   "execution_count": 82,
   "metadata": {
    "collapsed": true
   },
   "outputs": [],
   "source": [
    "# lists can be nested\n",
    "list_of_names = [['Isaac','Newton'],['Albert','Einstein'],['Marie','Curie']]"
   ]
  },
  {
   "cell_type": "code",
   "execution_count": 83,
   "metadata": {
    "collapsed": false
   },
   "outputs": [
    {
     "data": {
      "text/plain": [
       "['Isaac', 'Newton']"
      ]
     },
     "execution_count": 83,
     "metadata": {},
     "output_type": "execute_result"
    }
   ],
   "source": [
    "# select the first element\n",
    "list_of_names[0]"
   ]
  },
  {
   "cell_type": "code",
   "execution_count": 125,
   "metadata": {
    "collapsed": false
   },
   "outputs": [
    {
     "data": {
      "text/plain": [
       "'Newton'"
      ]
     },
     "execution_count": 125,
     "metadata": {},
     "output_type": "execute_result"
    }
   ],
   "source": [
    "# here's how to select from a nested list\n",
    "list_of_names[0][1]"
   ]
  },
  {
   "cell_type": "code",
   "execution_count": 90,
   "metadata": {
    "collapsed": false
   },
   "outputs": [],
   "source": [
    "# we can delete elements from a list\n",
    "del odds[-1]"
   ]
  },
  {
   "cell_type": "code",
   "execution_count": 91,
   "metadata": {
    "collapsed": false
   },
   "outputs": [
    {
     "name": "stdout",
     "output_type": "stream",
     "text": [
      "[3, 5]\n"
     ]
    }
   ],
   "source": [
    "print(odds)"
   ]
  },
  {
   "cell_type": "code",
   "execution_count": 92,
   "metadata": {
    "collapsed": true
   },
   "outputs": [],
   "source": [
    "# or add elements to the end of a list\n",
    "odds.append(9)"
   ]
  },
  {
   "cell_type": "code",
   "execution_count": 93,
   "metadata": {
    "collapsed": false
   },
   "outputs": [
    {
     "name": "stdout",
     "output_type": "stream",
     "text": [
      "[3, 5, 9]\n"
     ]
    }
   ],
   "source": [
    "print(odds)"
   ]
  },
  {
   "cell_type": "code",
   "execution_count": 94,
   "metadata": {
    "collapsed": true
   },
   "outputs": [],
   "source": [
    "# or reverse the order\n",
    "odds.reverse()"
   ]
  },
  {
   "cell_type": "code",
   "execution_count": 95,
   "metadata": {
    "collapsed": false
   },
   "outputs": [
    {
     "name": "stdout",
     "output_type": "stream",
     "text": [
      "[9, 5, 3]\n"
     ]
    }
   ],
   "source": [
    "print(odds)"
   ]
  },
  {
   "cell_type": "code",
   "execution_count": 96,
   "metadata": {
    "collapsed": false
   },
   "outputs": [
    {
     "name": "stdout",
     "output_type": "stream",
     "text": [
      "hlsp_1238054.f-s0d\n"
     ]
    }
   ],
   "source": [
    "# select just part of a string -- [:13] means everything up to but nor including item 13\n",
    "filename = 'hlsp_1238054.f-s0df.fits'\n",
    "filebase = filename[:13]\n",
    "print(filebase)"
   ]
  },
  {
   "cell_type": "code",
   "execution_count": 97,
   "metadata": {
    "collapsed": false
   },
   "outputs": [
    {
     "name": "stdout",
     "output_type": "stream",
     "text": [
      "s\n",
      "f\n"
     ]
    }
   ],
   "source": [
    "# -1 is the last character, -6 is 6th from last\n",
    "print(filename[-1])\n",
    "print(filename[-6])"
   ]
  },
  {
   "cell_type": "code",
   "execution_count": 99,
   "metadata": {
    "collapsed": false
   },
   "outputs": [],
   "source": [
    "# add on to the end of a string with +\n",
    "filebase=filebase+'txt'"
   ]
  },
  {
   "cell_type": "code",
   "execution_count": 100,
   "metadata": {
    "collapsed": false
   },
   "outputs": [
    {
     "name": "stdout",
     "output_type": "stream",
     "text": [
      "hlsp_1238054.f-s0dtxt\n"
     ]
    }
   ],
   "source": [
    "print(filebase)"
   ]
  },
  {
   "cell_type": "code",
   "execution_count": 101,
   "metadata": {
    "collapsed": true
   },
   "outputs": [],
   "source": [
    "# the module with the funny name \"glob\"\n",
    "import glob"
   ]
  },
  {
   "cell_type": "code",
   "execution_count": 102,
   "metadata": {
    "collapsed": false
   },
   "outputs": [
    {
     "name": "stdout",
     "output_type": "stream",
     "text": [
      "Help on module glob:\n",
      "\n",
      "NAME\n",
      "    glob - Filename globbing utility.\n",
      "\n",
      "FILE\n",
      "    /Users/pauline/anaconda/lib/python2.7/glob.py\n",
      "\n",
      "MODULE DOCS\n",
      "    http://docs.python.org/library/glob\n",
      "\n",
      "FUNCTIONS\n",
      "    glob(pathname)\n",
      "        Return a list of paths matching a pathname pattern.\n",
      "        \n",
      "        The pattern may contain simple shell-style wildcards a la\n",
      "        fnmatch. However, unlike fnmatch, filenames starting with a\n",
      "        dot are special cases that are not matched by '*' and '?'\n",
      "        patterns.\n",
      "    \n",
      "    iglob(pathname)\n",
      "        Return an iterator which yields the paths matching a pathname pattern.\n",
      "        \n",
      "        The pattern may contain simple shell-style wildcards a la\n",
      "        fnmatch. However, unlike fnmatch, filenames starting with a\n",
      "        dot are special cases that are not matched by '*' and '?'\n",
      "        patterns.\n",
      "\n",
      "DATA\n",
      "    __all__ = ['glob', 'iglob']\n",
      "\n",
      "\n"
     ]
    }
   ],
   "source": [
    "# it's used for \"globbing\" - matching patterns in file names\n",
    "help(glob)"
   ]
  },
  {
   "cell_type": "code",
   "execution_count": 103,
   "metadata": {
    "collapsed": false
   },
   "outputs": [
    {
     "name": "stdout",
     "output_type": "stream",
     "text": [
      "inflammation-01.csv  inflammation-06.csv  inflammation-11.csv\r\n",
      "inflammation-02.csv  inflammation-07.csv  inflammation-12.csv\r\n",
      "inflammation-03.csv  inflammation-08.csv  small-01.csv\r\n",
      "inflammation-04.csv  inflammation-09.csv  small-02.csv\r\n",
      "inflammation-05.csv  inflammation-10.csv  small-03.csv\r\n"
     ]
    }
   ],
   "source": [
    "ls"
   ]
  },
  {
   "cell_type": "code",
   "execution_count": 104,
   "metadata": {
    "collapsed": true
   },
   "outputs": [],
   "source": [
    "# give us a list of all of the files whose names start with inflammation and end with .csv\n",
    "file_list = glob.glob('inflammation*.csv')"
   ]
  },
  {
   "cell_type": "code",
   "execution_count": 105,
   "metadata": {
    "collapsed": false
   },
   "outputs": [
    {
     "name": "stdout",
     "output_type": "stream",
     "text": [
      "['inflammation-01.csv', 'inflammation-02.csv', 'inflammation-03.csv', 'inflammation-04.csv', 'inflammation-05.csv', 'inflammation-06.csv', 'inflammation-07.csv', 'inflammation-08.csv', 'inflammation-09.csv', 'inflammation-10.csv', 'inflammation-11.csv', 'inflammation-12.csv']\n"
     ]
    }
   ],
   "source": [
    "print(file_list)"
   ]
  },
  {
   "cell_type": "code",
   "execution_count": 108,
   "metadata": {
    "collapsed": false
   },
   "outputs": [
    {
     "name": "stdout",
     "output_type": "stream",
     "text": [
      "inflammation-01.csv\n"
     ]
    },
    {
     "data": {
      "image/png": "[encoded data removed]",
      "text/plain": [
       "<matplotlib.figure.Figure at 0x104aa2050>"
      ]
     },
     "metadata": {},
     "output_type": "display_data"
    },
    {
     "name": "stdout",
     "output_type": "stream",
     "text": [
      "inflammation-02.csv\n"
     ]
    },
    {
     "data": {
      "image/png": "[encoded data removed]",
      "text/plain": [
       "<matplotlib.figure.Figure at 0x1056c2850>"
      ]
     },
     "metadata": {},
     "output_type": "display_data"
    },
    {
     "name": "stdout",
     "output_type": "stream",
     "text": [
      "inflammation-03.csv\n"
     ]
    },
    {
     "data": {
      "image/png": "[encoded data removed]",
      "text/plain": [
       "<matplotlib.figure.Figure at 0x104f2f150>"
      ]
     },
     "metadata": {},
     "output_type": "display_data"
    }
   ],
   "source": [
    "# work on the first 3 files in the list\n",
    "filenames = file_list[0:3]\n",
    "for f in filenames: # for each of the 1st 3 filenames in the list\n",
    "    print(f) # print the filename\n",
    "    data = numpy.loadtxt(fname=f,delimiter=',') #load the data in the file\n",
    "    #print(data.mean(axis=0))\n",
    "    fig = matplotlib.pyplot.figure(figsize=(10,3)) # make a figure\n",
    "    axes1 = fig.add_subplot(1,3,1) # add some subfigures\n",
    "    axes2 = fig.add_subplot(1,3,2)\n",
    "    axes3 = fig.add_subplot(1,3,3)\n",
    "    \n",
    "    axes1.set_ylabel('average')\n",
    "    axes1.plot(numpy.mean(data,axis=0)) # plot the data average\n",
    "    \n",
    "    axes2.set_ylabel('max')\n",
    "    axes2.plot(numpy.max(data,axis=0)) # plot the data max\n",
    "    \n",
    "    axes3.set_ylabel('min')\n",
    "    axes3.plot(numpy.min(data,axis=0)) # plot the data min\n",
    "    \n",
    "    fig.tight_layout() # some plotting magic\n",
    "    matplotlib.pyplot.show()"
   ]
  },
  {
   "cell_type": "code",
   "execution_count": 109,
   "metadata": {
    "collapsed": false
   },
   "outputs": [
    {
     "data": {
      "image/png": "[encoded data removed]",
      "text/plain": [
       "<matplotlib.figure.Figure at 0x10341b490>"
      ]
     },
     "metadata": {},
     "output_type": "display_data"
    }
   ],
   "source": [
    "# challenge: plot the difference between the averages for the first 2 files\n",
    "\n",
    "data1 = numpy.loadtxt(fname='inflammation-01.csv',delimiter=',')\n",
    "data2= numpy.loadtxt(fname='inflammation-02.csv',delimiter=',')\n",
    "difference = data1.mean(axis=0) - data2.mean(axis=0)\n",
    "\n",
    "fig = matplotlib.pyplot.figure(figsize=(10,3))\n",
    "axes1 = fig.add_subplot(1,1,1)\n",
    "axes1.set_ylabel('average')\n",
    "axes1.plot(difference)\n",
    "\n",
    "fig.tight_layout()\n",
    "matplotlib.pyplot.show()"
   ]
  },
  {
   "cell_type": "code",
   "execution_count": 111,
   "metadata": {
    "collapsed": false
   },
   "outputs": [
    {
     "data": {
      "image/png": "[encoded data removed]",
      "text/plain": [
       "<matplotlib.figure.Figure at 0x1057896d0>"
      ]
     },
     "metadata": {},
     "output_type": "display_data"
    }
   ],
   "source": [
    "# challenge: compute the average of the arrays over all of the data files and\n",
    "# make the same plots as above\n",
    "composite_data = numpy.zeros((60,40)) # make an empty array\n",
    "for f in file_list:\n",
    "    data = numpy.loadtxt(fname=f,delimiter=',') # read in the data\n",
    "    composite_data = composite_data + data # add the array data to the composite array\n",
    "#compute the average\n",
    "composite_data = composite_data/len(file_list) # divide by the length of the list of file names\n",
    "# (same as the number of data files)\n",
    "\n",
    "fig = matplotlib.pyplot.figure(figsize=(10,3))\n",
    "axes1 = fig.add_subplot(1,3,1)\n",
    "axes2 = fig.add_subplot(1,3,2)\n",
    "axes3 = fig.add_subplot(1,3,3)\n",
    "    \n",
    "axes1.set_ylabel('average')\n",
    "axes1.plot(numpy.mean(composite_data,axis=0))\n",
    "    \n",
    "axes2.set_ylabel('max')\n",
    "axes2.plot(numpy.max(composite_data,axis=0))\n",
    "    \n",
    "axes3.set_ylabel('min')\n",
    "axes3.plot(numpy.min(composite_data,axis=0))\n",
    "    \n",
    "fig.tight_layout()\n",
    "matplotlib.pyplot.show()"
   ]
  },
  {
   "cell_type": "code",
   "execution_count": 112,
   "metadata": {
    "collapsed": false
   },
   "outputs": [
    {
     "name": "stdout",
     "output_type": "stream",
     "text": [
      "not greater\n",
      "all done\n"
     ]
    }
   ],
   "source": [
    "# we need our programs to make decisions: if/else. Note the : and indentation\n",
    "num = 37\n",
    "if num > 100: # if this is true\n",
    "    print('greater') # do this\n",
    "else:\n",
    "    print('not greater') # otherwise do this\n"
   ]
  },
  {
   "cell_type": "code",
   "execution_count": 113,
   "metadata": {
    "collapsed": true
   },
   "outputs": [],
   "source": [
    "# don't need to have an else\n",
    "num = 37\n",
    "if num > 100:\n",
    "    print('greater')\n"
   ]
  },
  {
   "cell_type": "code",
   "execution_count": 115,
   "metadata": {
    "collapsed": false
   },
   "outputs": [
    {
     "name": "stdout",
     "output_type": "stream",
     "text": [
      "really small\n"
     ]
    }
   ],
   "source": [
    "# can have multiple \"elif\", short for \"else if\"\n",
    "num = 12\n",
    "if num > 100:\n",
    "    print('greater')\n",
    "elif num > 30:\n",
    "    print('over 30')\n",
    "elif num > 57:\n",
    "    print('over 57')\n",
    "else:\n",
    "    print('really small')"
   ]
  },
  {
   "cell_type": "code",
   "execution_count": 117,
   "metadata": {
    "collapsed": false
   },
   "outputs": [
    {
     "name": "stdout",
     "output_type": "stream",
     "text": [
      "no\n"
     ]
    }
   ],
   "source": [
    "# can combine more than one statement with and, or, not, etc\n",
    "a = 1\n",
    "b = 2\n",
    "if not a > 4 or b < 2:\n",
    "    print('yes')\n",
    "else:\n",
    "    print('no')"
   ]
  },
  {
   "cell_type": "code",
   "execution_count": 119,
   "metadata": {
    "collapsed": false
   },
   "outputs": [],
   "source": [
    "# our averaging program again, but this time checking for bad data\n",
    "composite_data = numpy.zeros((60,40))\n",
    "good_files = 0 # good_files is a counter to keep track of the number of good data files\n",
    "for f in file_list:\n",
    "    data = numpy.loadtxt(fname=f,delimiter=',')\n",
    "    if numpy.max(data) <1e-10 or numpy.mean(data) == 0:\n",
    "        print('warning, bad data in file', f)\n",
    "    else:\n",
    "        composite_data = composite_data + data\n",
    "        good_files = good_files + 1\n",
    "#compute the average\n",
    "composite_data = composite_data/good_files"
   ]
  },
  {
   "cell_type": "code",
   "execution_count": 120,
   "metadata": {
    "collapsed": false
   },
   "outputs": [
    {
     "name": "stdout",
     "output_type": "stream",
     "text": [
      "[[ 0.          0.33333333  0.58333333 ...,  1.16666667  0.66666667\n",
      "   0.33333333]\n",
      " [ 0.          0.58333333  0.66666667 ...,  1.16666667  0.5         0.41666667]\n",
      " [ 0.          0.5         1.08333333 ...,  0.75        0.75        0.58333333]\n",
      " ..., \n",
      " [ 0.          0.33333333  1.5        ...,  1.33333333  0.91666667\n",
      "   0.41666667]\n",
      " [ 0.          0.33333333  0.75       ...,  1.08333333  0.75        0.41666667]\n",
      " [ 0.          0.16666667  0.91666667 ...,  1.5         0.58333333\n",
      "   0.41666667]]\n"
     ]
    }
   ],
   "source": [
    "print(composite_data)"
   ]
  },
  {
   "cell_type": "code",
   "execution_count": null,
   "metadata": {
    "collapsed": true
   },
   "outputs": [],
   "source": []
  }
 ],
 "metadata": {
  "kernelspec": {
   "display_name": "Python 2",
   "language": "python",
   "name": "python2"
  },
  "language_info": {
   "codemirror_mode": {
    "name": "ipython",
    "version": 2
   },
   "file_extension": ".py",
   "mimetype": "text/x-python",
   "name": "python",
   "nbconvert_exporter": "python",
   "pygments_lexer": "ipython2",
   "version": "2.7.12"
  }
 },
 "nbformat": 4,
 "nbformat_minor": 0
}
